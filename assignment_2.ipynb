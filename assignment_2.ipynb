{
  "nbformat": 4,
  "nbformat_minor": 0,
  "metadata": {
    "colab": {
      "name": "assignment 2.ipynb",
      "provenance": [],
      "collapsed_sections": [],
      "authorship_tag": "ABX9TyNNDft2lnnLBD7f+bbf0RFP",
      "include_colab_link": true
    },
    "kernelspec": {
      "name": "python3",
      "display_name": "Python 3"
    },
    "language_info": {
      "name": "python"
    }
  },
  "cells": [
    {
      "cell_type": "markdown",
      "metadata": {
        "id": "view-in-github",
        "colab_type": "text"
      },
      "source": [
        "<a href=\"https://colab.research.google.com/github/Ankur08kv/improved-octo-carnival/blob/main/assignment_2.ipynb\" target=\"_parent\"><img src=\"https://colab.research.google.com/assets/colab-badge.svg\" alt=\"Open In Colab\"/></a>"
      ]
    },
    {
      "cell_type": "code",
      "metadata": {
        "colab": {
          "base_uri": "https://localhost:8080/"
        },
        "id": "GSKNYmdpSHrc",
        "outputId": "31c742ad-3bad-4619-819a-ccd8b4da7641"
      },
      "source": [
        "x = float(input(\"Enter Basic Pay: \"))\n",
        "HRA = 0.1 * x\n",
        "TA = HRA/2\n",
        "s = x + HRA + TA\n",
        "print(\"Salary={}\".format(s))\n",
        "if 80000<=x :\n",
        "    print(\"High\")\n",
        "if 40000<=x<80000:\n",
        "    print(\"moderate\")\n",
        "if 40000<x<=10000:\n",
        "    print(\"Low\")\n",
        "if x<10000:\n",
        "    print(\"Invalid\")\n",
        "  "
      ],
      "execution_count": null,
      "outputs": [
        {
          "output_type": "stream",
          "text": [
            "Enter Basic Pay: 500000\n",
            "Salary=575000.0\n",
            "High\n"
          ],
          "name": "stdout"
        }
      ]
    },
    {
      "cell_type": "code",
      "metadata": {
        "colab": {
          "base_uri": "https://localhost:8080/"
        },
        "id": "Ld49v48SV366",
        "outputId": "7bb7abce-68c9-4e75-c11c-297deba001ab"
      },
      "source": [
        "a = int(input(\"Enter first number: \"))\n",
        "b = int(input(\"Enter second number: \"))\n",
        "Addition = a + b\n",
        "Subtraction = a - b\n",
        "Multiplication = a * b\n",
        "Division = a / b\n",
        "var = 1\n",
        "while var!='0':\n",
        "\n",
        "  print(\"Main Menu\\n1) Addition\\n2) Subtraction\\n3) Multiplication\\n4) Division\")\n",
        "\n",
        "  x = int(input(\"Enter choice: \"))\n",
        "  if x == 1:\n",
        "     print(\"result is:\",Addition)\n",
        "  elif x == 2:\n",
        "     print(\"result is:\",Subtraction)\n",
        "  elif x == 3:\n",
        "     print(\"result is:\",Multiplication)\n",
        "  elif x == 4:\n",
        "     print(\"result is:\",Division)\n",
        "  else:\n",
        "     print('\\nPlease enter a valid choice')\n",
        "  var = (input('\\nDo you want to Continue?(press 0 to stop)'))\n"
      ],
      "execution_count": null,
      "outputs": [
        {
          "output_type": "stream",
          "text": [
            "Enter first number: 8\n",
            "Enter second number: 4\n",
            "Main Menu\n",
            "1) Addition\n",
            "2) Subtraction\n",
            "3) Multiplication\n",
            "4) Division\n",
            "Enter choice: 1\n",
            "result is: 12\n",
            "\n",
            "Do you want to Continue?(press 0 to stop)1\n",
            "Main Menu\n",
            "1) Addition\n",
            "2) Subtraction\n",
            "3) Multiplication\n",
            "4) Division\n",
            "Enter choice: 2\n",
            "result is: 4\n",
            "\n",
            "Do you want to Continue?(press 0 to stop)1\n",
            "Main Menu\n",
            "1) Addition\n",
            "2) Subtraction\n",
            "3) Multiplication\n",
            "4) Division\n",
            "Enter choice: 3\n",
            "result is: 32\n",
            "\n",
            "Do you want to Continue?(press 0 to stop)1\n",
            "Main Menu\n",
            "1) Addition\n",
            "2) Subtraction\n",
            "3) Multiplication\n",
            "4) Division\n",
            "Enter choice: 4\n",
            "result is: 2.0\n",
            "\n",
            "Do you want to Continue?(press 0 to stop)0\n"
          ],
          "name": "stdout"
        }
      ]
    },
    {
      "cell_type": "code",
      "metadata": {
        "id": "SszA4_E765aU",
        "colab": {
          "base_uri": "https://localhost:8080/"
        },
        "outputId": "3e35562f-febc-47e1-c537-3b2ce00fc418"
      },
      "source": [
        "import numpy as np\n",
        "a = int(input(\"enter the no. of rows of matrix1:\"))\n",
        "b = int(input(\"enter the no. of columns of matrix1:\"))\n",
        "#use space between entries\n",
        "print(\"Enter the matrix1 entries in single list:\")\n",
        "entries = list(map(int, input().split()))\n",
        "matrix1 = np.array(entries).reshape(a,b)\n",
        "print(matrix1)\n",
        "m = int(input(\"enter the no. of rows of matrix2:\"))\n",
        "n = int(input(\"enter the no. of columns of matrix2:\"))\n",
        "#use space between entries\n",
        "print(\"Enter the matrix2 entries in single list:\")\n",
        "entries = list(map(int, input().split()))\n",
        "matrix2 = np.array(entries).reshape(a,b)\n",
        "print(matrix2)\n",
        "var =1\n",
        "while var!='0':\n",
        "    print('1.Add Matrices\\n2.Multiply Matrices\\n3.vertical concatenation\\n4.horizontal concatenation\\n5.Transpose Matrices\\n6.Exit')\n",
        "    choice = int(input('Enter Choice:'))\n",
        "    if choice==1:\n",
        "      print (\"The addition of matrix is : \")\n",
        "      print (np.add(matrix1,matrix2)) \n",
        "    elif choice==2:\n",
        "      print (\"The multiplication of matrix is : \") \n",
        "      print (np.dot(matrix1,matrix2))\n",
        "    elif choice==3:\n",
        "      print (\"The vertical concatenation of matrix is : \") \n",
        "      print (np.vstack((matrix1,matrix2)))\n",
        "    elif choice==4:\n",
        "      print (\"The horizontal concatenation of matrix is : \") \n",
        "      print (np.hstack((matrix1,matrix2)))\n",
        "    elif choice==5:\n",
        "      print (\"The Transpose of matrix1 is : \") \n",
        "      print (matrix1.T) \n",
        "      print (\"The Transpose of matrix2 is : \")\n",
        "      print (matrix2.T)\n",
        "    elif choice==6:\n",
        "      exit(0)\n",
        "    var = (input('\\nDo you want to Continue?(press 0 to stop)'))"
      ],
      "execution_count": 3,
      "outputs": [
        {
          "output_type": "stream",
          "text": [
            "enter the no. of rows of matrix1:2\n",
            "enter the no. of columns of matrix1:2\n",
            "Enter the matrix1 entries in single list:\n",
            "2 4 6 8\n",
            "[[2 4]\n",
            " [6 8]]\n",
            "enter the no. of rows of matrix2:2\n",
            "enter the no. of columns of matrix2:2\n",
            "Enter the matrix2 entries in single list:\n",
            "1 3 7 9\n",
            "[[1 3]\n",
            " [7 9]]\n",
            "1.Add Matrices\n",
            "2.Multiply Matrices\n",
            "3.vertical concatenation\n",
            "4.horizontal concatenation\n",
            "5.Transpose Matrices\n",
            "6.Exit\n",
            "Enter Choice:4\n",
            "The horizontal concatenation of matrix is : \n",
            "[[2 4 1 3]\n",
            " [6 8 7 9]]\n",
            "\n",
            "Do you want to Continue?(press 0 to stop)0\n"
          ],
          "name": "stdout"
        }
      ]
    },
    {
      "cell_type": "code",
      "metadata": {
        "colab": {
          "base_uri": "https://localhost:8080/"
        },
        "id": "wwoa0UaOG4zm",
        "outputId": "5575492d-7bd0-4455-a4f1-4f5a102ae564"
      },
      "source": [
        "import re\n",
        "x=1\n",
        "while x != 0:\n",
        "    s1 = input(\"Enter string: \")\n",
        "    print(s1.swapcase())\n",
        "    print(s1[::-1])\n",
        "    all_freq = {}\n",
        "\n",
        "    for i in s1:\n",
        "        if i in all_freq:\n",
        "            all_freq[i] += 1\n",
        "        else:\n",
        "            all_freq[i] = 1\n",
        "    print(\"Count of all characters in {} is :\\n \".format(s1)\n",
        "          + str(all_freq))\n",
        "    s2 = input(\"Enter sub string: \")\n",
        "    if re.search(s2, s1):\n",
        "        print(\"YES,sub string '{0}' is present in string '{1}' \".format(s2, s1))\n",
        "    else:\n",
        "        print(\"NO,sub string '{0}' is not present in string {1} \".format(s2, s1))\n",
        "    x = int(input(\"Do you wish to continue? (Press 0 to stop)\"))\n"
      ],
      "execution_count": null,
      "outputs": [
        {
          "output_type": "stream",
          "text": [
            "Enter string: prabhat\n",
            "PRABHAT\n",
            "tahbarp\n",
            "Count of all characters in prabhat is :\n",
            " {'p': 1, 'r': 1, 'a': 2, 'b': 1, 'h': 1, 't': 1}\n",
            "Enter sub string: hat\n",
            "YES,sub string 'hat' is present in string 'prabhat' \n",
            "Do you wish to continue? (Press 0 to stop)0\n"
          ],
          "name": "stdout"
        }
      ]
    }
  ]
}